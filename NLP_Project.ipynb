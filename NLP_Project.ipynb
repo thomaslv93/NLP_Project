{
 "cells": [
  {
   "cell_type": "markdown",
   "metadata": {},
   "source": [
    "# NLP Project - Git Test"
   ]
  },
  {
   "cell_type": "markdown",
   "metadata": {},
   "source": [
    "### Perceptron - Single Unit Neural Network\n",
    "Here I am simply going to try to construct from scratch and mostly from memory a perceptron using the tools given by PyTorch."
   ]
  },
  {
   "cell_type": "code",
   "execution_count": 1,
   "metadata": {},
   "outputs": [
    {
     "data": {
      "text/plain": [
       "'1.4.0'"
      ]
     },
     "execution_count": 1,
     "metadata": {},
     "output_type": "execute_result"
    }
   ],
   "source": [
    "import torch\n",
    "import torch.nn as nn\n",
    "import torch.nn.functional as F\n",
    "import torch.optim as optim\n",
    "torch.__version__"
   ]
  },
  {
   "cell_type": "code",
   "execution_count": 2,
   "metadata": {},
   "outputs": [
    {
     "ename": "SyntaxError",
     "evalue": "unexpected EOF while parsing (<ipython-input-2-abc1a8a5df15>, line 11)",
     "output_type": "error",
     "traceback": [
      "\u001b[0;36m  File \u001b[0;32m\"<ipython-input-2-abc1a8a5df15>\"\u001b[0;36m, line \u001b[0;32m11\u001b[0m\n\u001b[0;31m    \u001b[0m\n\u001b[0m    ^\u001b[0m\n\u001b[0;31mSyntaxError\u001b[0m\u001b[0;31m:\u001b[0m unexpected EOF while parsing\n"
     ]
    }
   ],
   "source": [
    "class Perceptron(nn.Module):\n",
    "    \n",
    "    # What is the __init__ method? It is necessary for all classes in python. It initializes an object of the class type.\n",
    "    # It is used to initialize an object of the type you are defining.\n",
    "    def __init__(self,input_dim):\n",
    "        super(Perceptron, self).__init()\n",
    "        self.fc1 = nn.Linear(input_dim, 1)\n",
    "    \n",
    "    # What is the forward method? The forward method defines a forward pass.\n",
    "    def forward():\n",
    "        "
   ]
  },
  {
   "cell_type": "code",
   "execution_count": 3,
   "metadata": {},
   "outputs": [
    {
     "data": {
      "text/plain": [
       "<enumerate at 0x1178710a0>"
      ]
     },
     "execution_count": 3,
     "metadata": {},
     "output_type": "execute_result"
    }
   ],
   "source": [
    "a = [1,2,3,4,100,12,44]\n",
    "enumerate(a)"
   ]
  },
  {
   "cell_type": "code",
   "execution_count": 4,
   "metadata": {},
   "outputs": [
    {
     "data": {
      "text/plain": [
       "[(0, 1), (1, 2), (2, 3), (3, 4), (4, 100), (5, 12), (6, 44)]"
      ]
     },
     "execution_count": 4,
     "metadata": {},
     "output_type": "execute_result"
    }
   ],
   "source": [
    "[i for i in enumerate(a)]"
   ]
  },
  {
   "cell_type": "code",
   "execution_count": 5,
   "metadata": {},
   "outputs": [
    {
     "data": {
      "text/plain": [
       "['he',\n",
       " 'who',\n",
       " 'fights',\n",
       " 'with',\n",
       " 'monsters',\n",
       " 'might',\n",
       " 'take',\n",
       " 'care',\n",
       " 'lest',\n",
       " 'he',\n",
       " 'thereby',\n",
       " 'become',\n",
       " 'a',\n",
       " 'monster.',\n",
       " 'and',\n",
       " 'if',\n",
       " 'you',\n",
       " 'gaze',\n",
       " 'for',\n",
       " 'long',\n",
       " 'into',\n",
       " 'an',\n",
       " 'abyss,',\n",
       " 'the',\n",
       " 'abyss',\n",
       " 'gazes',\n",
       " 'also',\n",
       " 'into',\n",
       " 'you.']"
      ]
     },
     "execution_count": 5,
     "metadata": {},
     "output_type": "execute_result"
    }
   ],
   "source": [
    "sentence = \"He who fights with monsters might take care lest he thereby become a monster. And if you gaze for long into an abyss, the abyss gazes also into you.\"\n",
    "sentence = sentence.lower()\n",
    "words = sentence.split(' ')\n",
    "words"
   ]
  },
  {
   "cell_type": "code",
   "execution_count": 6,
   "metadata": {},
   "outputs": [
    {
     "data": {
      "text/plain": [
       "['he',\n",
       " 'who',\n",
       " 'fights',\n",
       " 'with',\n",
       " 'monsters',\n",
       " 'might',\n",
       " 'take',\n",
       " 'care',\n",
       " 'lest',\n",
       " 'he',\n",
       " 'thereby',\n",
       " 'become',\n",
       " 'a',\n",
       " 'monster',\n",
       " 'and',\n",
       " 'if',\n",
       " 'you',\n",
       " 'gaze',\n",
       " 'for',\n",
       " 'long',\n",
       " 'into',\n",
       " 'an',\n",
       " 'abyss',\n",
       " 'the',\n",
       " 'abyss',\n",
       " 'gazes',\n",
       " 'also',\n",
       " 'into',\n",
       " 'you']"
      ]
     },
     "execution_count": 6,
     "metadata": {},
     "output_type": "execute_result"
    }
   ],
   "source": [
    "import string\n",
    "for i in range(len(words)):\n",
    "    words[i] = words[i].strip(string.punctuation)\n",
    "words"
   ]
  },
  {
   "cell_type": "code",
   "execution_count": 7,
   "metadata": {},
   "outputs": [
    {
     "data": {
      "text/plain": [
       "['fights',\n",
       " 'you',\n",
       " 'lest',\n",
       " 'thereby',\n",
       " 'for',\n",
       " 'who',\n",
       " 'an',\n",
       " 'he',\n",
       " 'gaze',\n",
       " 'gazes',\n",
       " 'abyss',\n",
       " 'might',\n",
       " 'monster',\n",
       " 'also',\n",
       " 'become',\n",
       " 'long',\n",
       " 'into',\n",
       " 'monsters',\n",
       " 'a',\n",
       " 'the',\n",
       " 'take',\n",
       " 'with',\n",
       " 'and',\n",
       " 'if',\n",
       " 'care']"
      ]
     },
     "execution_count": 7,
     "metadata": {},
     "output_type": "execute_result"
    }
   ],
   "source": [
    "vocab = list(set(words))\n",
    "vocab"
   ]
  },
  {
   "cell_type": "code",
   "execution_count": 8,
   "metadata": {},
   "outputs": [
    {
     "data": {
      "text/plain": [
       "25"
      ]
     },
     "execution_count": 8,
     "metadata": {},
     "output_type": "execute_result"
    }
   ],
   "source": [
    "vocab_size = len(vocab)\n",
    "vocab_size"
   ]
  },
  {
   "cell_type": "code",
   "execution_count": 9,
   "metadata": {},
   "outputs": [
    {
     "data": {
      "text/plain": [
       "{'fights': 0,\n",
       " 'you': 1,\n",
       " 'lest': 2,\n",
       " 'thereby': 3,\n",
       " 'for': 4,\n",
       " 'who': 5,\n",
       " 'an': 6,\n",
       " 'he': 7,\n",
       " 'gaze': 8,\n",
       " 'gazes': 9,\n",
       " 'abyss': 10,\n",
       " 'might': 11,\n",
       " 'monster': 12,\n",
       " 'also': 13,\n",
       " 'become': 14,\n",
       " 'long': 15,\n",
       " 'into': 16,\n",
       " 'monsters': 17,\n",
       " 'a': 18,\n",
       " 'the': 19,\n",
       " 'take': 20,\n",
       " 'with': 21,\n",
       " 'and': 22,\n",
       " 'if': 23,\n",
       " 'care': 24}"
      ]
     },
     "execution_count": 9,
     "metadata": {},
     "output_type": "execute_result"
    }
   ],
   "source": [
    "word_to_index = {word: index for index, word in enumerate(vocab)}\n",
    "word_to_index"
   ]
  },
  {
   "cell_type": "code",
   "execution_count": 10,
   "metadata": {},
   "outputs": [
    {
     "data": {
      "text/plain": [
       "tensor([[1, 0, 0, 0, 0, 0, 0, 0, 0, 0, 0, 0, 0, 0, 0, 0, 0, 0, 0, 0, 0, 0, 0, 0,\n",
       "         0],\n",
       "        [0, 1, 0, 0, 0, 0, 0, 0, 0, 0, 0, 0, 0, 0, 0, 0, 0, 0, 0, 0, 0, 0, 0, 0,\n",
       "         0],\n",
       "        [0, 0, 1, 0, 0, 0, 0, 0, 0, 0, 0, 0, 0, 0, 0, 0, 0, 0, 0, 0, 0, 0, 0, 0,\n",
       "         0],\n",
       "        [0, 0, 0, 1, 0, 0, 0, 0, 0, 0, 0, 0, 0, 0, 0, 0, 0, 0, 0, 0, 0, 0, 0, 0,\n",
       "         0],\n",
       "        [0, 0, 0, 0, 1, 0, 0, 0, 0, 0, 0, 0, 0, 0, 0, 0, 0, 0, 0, 0, 0, 0, 0, 0,\n",
       "         0],\n",
       "        [0, 0, 0, 0, 0, 1, 0, 0, 0, 0, 0, 0, 0, 0, 0, 0, 0, 0, 0, 0, 0, 0, 0, 0,\n",
       "         0],\n",
       "        [0, 0, 0, 0, 0, 0, 1, 0, 0, 0, 0, 0, 0, 0, 0, 0, 0, 0, 0, 0, 0, 0, 0, 0,\n",
       "         0],\n",
       "        [0, 0, 0, 0, 0, 0, 0, 1, 0, 0, 0, 0, 0, 0, 0, 0, 0, 0, 0, 0, 0, 0, 0, 0,\n",
       "         0],\n",
       "        [0, 0, 0, 0, 0, 0, 0, 0, 1, 0, 0, 0, 0, 0, 0, 0, 0, 0, 0, 0, 0, 0, 0, 0,\n",
       "         0],\n",
       "        [0, 0, 0, 0, 0, 0, 0, 0, 0, 1, 0, 0, 0, 0, 0, 0, 0, 0, 0, 0, 0, 0, 0, 0,\n",
       "         0],\n",
       "        [0, 0, 0, 0, 0, 0, 0, 0, 0, 0, 1, 0, 0, 0, 0, 0, 0, 0, 0, 0, 0, 0, 0, 0,\n",
       "         0],\n",
       "        [0, 0, 0, 0, 0, 0, 0, 0, 0, 0, 0, 1, 0, 0, 0, 0, 0, 0, 0, 0, 0, 0, 0, 0,\n",
       "         0],\n",
       "        [0, 0, 0, 0, 0, 0, 0, 0, 0, 0, 0, 0, 1, 0, 0, 0, 0, 0, 0, 0, 0, 0, 0, 0,\n",
       "         0],\n",
       "        [0, 0, 0, 0, 0, 0, 0, 0, 0, 0, 0, 0, 0, 1, 0, 0, 0, 0, 0, 0, 0, 0, 0, 0,\n",
       "         0],\n",
       "        [0, 0, 0, 0, 0, 0, 0, 0, 0, 0, 0, 0, 0, 0, 1, 0, 0, 0, 0, 0, 0, 0, 0, 0,\n",
       "         0],\n",
       "        [0, 0, 0, 0, 0, 0, 0, 0, 0, 0, 0, 0, 0, 0, 0, 1, 0, 0, 0, 0, 0, 0, 0, 0,\n",
       "         0],\n",
       "        [0, 0, 0, 0, 0, 0, 0, 0, 0, 0, 0, 0, 0, 0, 0, 0, 1, 0, 0, 0, 0, 0, 0, 0,\n",
       "         0],\n",
       "        [0, 0, 0, 0, 0, 0, 0, 0, 0, 0, 0, 0, 0, 0, 0, 0, 0, 1, 0, 0, 0, 0, 0, 0,\n",
       "         0],\n",
       "        [0, 0, 0, 0, 0, 0, 0, 0, 0, 0, 0, 0, 0, 0, 0, 0, 0, 0, 1, 0, 0, 0, 0, 0,\n",
       "         0],\n",
       "        [0, 0, 0, 0, 0, 0, 0, 0, 0, 0, 0, 0, 0, 0, 0, 0, 0, 0, 0, 1, 0, 0, 0, 0,\n",
       "         0],\n",
       "        [0, 0, 0, 0, 0, 0, 0, 0, 0, 0, 0, 0, 0, 0, 0, 0, 0, 0, 0, 0, 1, 0, 0, 0,\n",
       "         0],\n",
       "        [0, 0, 0, 0, 0, 0, 0, 0, 0, 0, 0, 0, 0, 0, 0, 0, 0, 0, 0, 0, 0, 1, 0, 0,\n",
       "         0],\n",
       "        [0, 0, 0, 0, 0, 0, 0, 0, 0, 0, 0, 0, 0, 0, 0, 0, 0, 0, 0, 0, 0, 0, 1, 0,\n",
       "         0],\n",
       "        [0, 0, 0, 0, 0, 0, 0, 0, 0, 0, 0, 0, 0, 0, 0, 0, 0, 0, 0, 0, 0, 0, 0, 1,\n",
       "         0],\n",
       "        [0, 0, 0, 0, 0, 0, 0, 0, 0, 0, 0, 0, 0, 0, 0, 0, 0, 0, 0, 0, 0, 0, 0, 0,\n",
       "         1]])"
      ]
     },
     "execution_count": 10,
     "metadata": {},
     "output_type": "execute_result"
    }
   ],
   "source": [
    "# Let's create a one-hot encoding.\n",
    "import numpy as np\n",
    "import torch\n",
    "one_hot_encoding = []\n",
    "for word in vocab:\n",
    "    temp = np.zeros(vocab_size)\n",
    "    temp[word_to_index[word]] = 1\n",
    "    one_hot_encoding.append([int(i) for i in temp.tolist()])\n",
    "one_hot_encoding = torch.tensor(one_hot_encoding)\n",
    "one_hot_encoding"
   ]
  },
  {
   "cell_type": "code",
   "execution_count": 11,
   "metadata": {},
   "outputs": [
    {
     "data": {
      "text/plain": [
       "tensor([[True, True, True, True, True, True, True, True, True, True, True, True,\n",
       "         True, True, True, True, True, True, True, True, True, True, True, True,\n",
       "         True],\n",
       "        [True, True, True, True, True, True, True, True, True, True, True, True,\n",
       "         True, True, True, True, True, True, True, True, True, True, True, True,\n",
       "         True],\n",
       "        [True, True, True, True, True, True, True, True, True, True, True, True,\n",
       "         True, True, True, True, True, True, True, True, True, True, True, True,\n",
       "         True],\n",
       "        [True, True, True, True, True, True, True, True, True, True, True, True,\n",
       "         True, True, True, True, True, True, True, True, True, True, True, True,\n",
       "         True],\n",
       "        [True, True, True, True, True, True, True, True, True, True, True, True,\n",
       "         True, True, True, True, True, True, True, True, True, True, True, True,\n",
       "         True],\n",
       "        [True, True, True, True, True, True, True, True, True, True, True, True,\n",
       "         True, True, True, True, True, True, True, True, True, True, True, True,\n",
       "         True],\n",
       "        [True, True, True, True, True, True, True, True, True, True, True, True,\n",
       "         True, True, True, True, True, True, True, True, True, True, True, True,\n",
       "         True],\n",
       "        [True, True, True, True, True, True, True, True, True, True, True, True,\n",
       "         True, True, True, True, True, True, True, True, True, True, True, True,\n",
       "         True],\n",
       "        [True, True, True, True, True, True, True, True, True, True, True, True,\n",
       "         True, True, True, True, True, True, True, True, True, True, True, True,\n",
       "         True],\n",
       "        [True, True, True, True, True, True, True, True, True, True, True, True,\n",
       "         True, True, True, True, True, True, True, True, True, True, True, True,\n",
       "         True],\n",
       "        [True, True, True, True, True, True, True, True, True, True, True, True,\n",
       "         True, True, True, True, True, True, True, True, True, True, True, True,\n",
       "         True],\n",
       "        [True, True, True, True, True, True, True, True, True, True, True, True,\n",
       "         True, True, True, True, True, True, True, True, True, True, True, True,\n",
       "         True],\n",
       "        [True, True, True, True, True, True, True, True, True, True, True, True,\n",
       "         True, True, True, True, True, True, True, True, True, True, True, True,\n",
       "         True],\n",
       "        [True, True, True, True, True, True, True, True, True, True, True, True,\n",
       "         True, True, True, True, True, True, True, True, True, True, True, True,\n",
       "         True],\n",
       "        [True, True, True, True, True, True, True, True, True, True, True, True,\n",
       "         True, True, True, True, True, True, True, True, True, True, True, True,\n",
       "         True],\n",
       "        [True, True, True, True, True, True, True, True, True, True, True, True,\n",
       "         True, True, True, True, True, True, True, True, True, True, True, True,\n",
       "         True],\n",
       "        [True, True, True, True, True, True, True, True, True, True, True, True,\n",
       "         True, True, True, True, True, True, True, True, True, True, True, True,\n",
       "         True],\n",
       "        [True, True, True, True, True, True, True, True, True, True, True, True,\n",
       "         True, True, True, True, True, True, True, True, True, True, True, True,\n",
       "         True],\n",
       "        [True, True, True, True, True, True, True, True, True, True, True, True,\n",
       "         True, True, True, True, True, True, True, True, True, True, True, True,\n",
       "         True],\n",
       "        [True, True, True, True, True, True, True, True, True, True, True, True,\n",
       "         True, True, True, True, True, True, True, True, True, True, True, True,\n",
       "         True],\n",
       "        [True, True, True, True, True, True, True, True, True, True, True, True,\n",
       "         True, True, True, True, True, True, True, True, True, True, True, True,\n",
       "         True],\n",
       "        [True, True, True, True, True, True, True, True, True, True, True, True,\n",
       "         True, True, True, True, True, True, True, True, True, True, True, True,\n",
       "         True],\n",
       "        [True, True, True, True, True, True, True, True, True, True, True, True,\n",
       "         True, True, True, True, True, True, True, True, True, True, True, True,\n",
       "         True],\n",
       "        [True, True, True, True, True, True, True, True, True, True, True, True,\n",
       "         True, True, True, True, True, True, True, True, True, True, True, True,\n",
       "         True],\n",
       "        [True, True, True, True, True, True, True, True, True, True, True, True,\n",
       "         True, True, True, True, True, True, True, True, True, True, True, True,\n",
       "         True]])"
      ]
     },
     "execution_count": 11,
     "metadata": {},
     "output_type": "execute_result"
    }
   ],
   "source": [
    "from torch.nn.functional import one_hot\n",
    "\n",
    "word_indexes = torch.tensor([word_to_index[word] for word in vocab], dtype=torch.long)\n",
    "\n",
    "one_hot_encoding2 = one_hot(word_indexes)\n",
    "\n",
    "one_hot_encoding == one_hot_encoding2"
   ]
  },
  {
   "cell_type": "code",
   "execution_count": 12,
   "metadata": {},
   "outputs": [],
   "source": [
    "# HYPERPARAMETERS\n",
    "CONTEXT_SIZE = 2\n",
    "\n",
    "EMBEDDING_DIM = 10\n",
    "\n",
    "HIDDEN_DIM = 256"
   ]
  },
  {
   "cell_type": "code",
   "execution_count": 13,
   "metadata": {},
   "outputs": [
    {
     "data": {
      "text/plain": [
       "[(['he', 'who'], 'fights'),\n",
       " (['who', 'fights'], 'with'),\n",
       " (['fights', 'with'], 'monsters'),\n",
       " (['with', 'monsters'], 'might'),\n",
       " (['monsters', 'might'], 'take'),\n",
       " (['might', 'take'], 'care'),\n",
       " (['take', 'care'], 'lest'),\n",
       " (['care', 'lest'], 'he'),\n",
       " (['lest', 'he'], 'thereby'),\n",
       " (['he', 'thereby'], 'become'),\n",
       " (['thereby', 'become'], 'a'),\n",
       " (['become', 'a'], 'monster'),\n",
       " (['a', 'monster'], 'and'),\n",
       " (['monster', 'and'], 'if'),\n",
       " (['and', 'if'], 'you'),\n",
       " (['if', 'you'], 'gaze'),\n",
       " (['you', 'gaze'], 'for'),\n",
       " (['gaze', 'for'], 'long'),\n",
       " (['for', 'long'], 'into'),\n",
       " (['long', 'into'], 'an'),\n",
       " (['into', 'an'], 'abyss'),\n",
       " (['an', 'abyss'], 'the'),\n",
       " (['abyss', 'the'], 'abyss'),\n",
       " (['the', 'abyss'], 'gazes'),\n",
       " (['abyss', 'gazes'], 'also'),\n",
       " (['gazes', 'also'], 'into'),\n",
       " (['also', 'into'], 'you')]"
      ]
     },
     "execution_count": 13,
     "metadata": {},
     "output_type": "execute_result"
    }
   ],
   "source": [
    "# BUILDING TRIGRAMS\n",
    "trigrams = [([words[i-2], words[i-1]], words[i]) for i in range(2, len(words))]\n",
    "trigrams"
   ]
  },
  {
   "cell_type": "code",
   "execution_count": 14,
   "metadata": {},
   "outputs": [
    {
     "data": {
      "text/plain": [
       "tensor([[ 1.6006, -0.6645,  0.5432,  0.4950, -1.0713,  0.2783, -1.7713, -0.4044,\n",
       "         -1.1901,  0.1015],\n",
       "        [ 0.4279, -1.0237, -0.8317,  0.0199,  1.5384, -0.3903,  0.6419,  0.2319,\n",
       "         -1.9515,  1.4657],\n",
       "        [-0.0294,  0.6504,  0.2849, -1.5047,  0.2431, -2.3651, -0.3938, -0.4906,\n",
       "          1.1304,  0.0687],\n",
       "        [ 0.3079,  0.2865,  0.7343, -0.6467, -0.9201,  2.0393,  1.9687, -0.6132,\n",
       "         -0.7404, -0.3695],\n",
       "        [-0.7188, -0.0891, -0.1131, -1.6059, -0.2689,  1.2588, -0.9100,  0.0600,\n",
       "         -0.4551,  0.1986],\n",
       "        [ 1.0518,  0.8081,  1.2864, -0.0554,  1.5136,  2.1389, -0.0725, -0.2635,\n",
       "         -0.1292,  0.8605],\n",
       "        [ 1.1409,  1.5963, -0.4233, -0.2144, -0.0989, -0.4040,  0.7161,  0.3316,\n",
       "         -0.3653, -0.0722],\n",
       "        [ 1.5758,  0.4012, -0.0488,  0.7433, -0.2327, -0.5334, -1.5111, -0.3532,\n",
       "          0.3004,  0.8640],\n",
       "        [-0.4029, -1.2956,  1.7387,  1.2478,  0.4211,  0.4790,  0.9029,  0.5276,\n",
       "         -2.0833,  1.4020],\n",
       "        [ 0.1821, -0.5374,  0.1662, -0.7769,  0.3765, -1.9404, -0.8715, -1.0616,\n",
       "         -0.3850, -1.0323],\n",
       "        [ 1.0868, -1.6570,  0.2344,  1.4900,  0.7884, -0.7617, -1.4031, -0.1603,\n",
       "         -0.3867, -0.2291],\n",
       "        [ 2.3597, -1.6067, -1.2116,  0.4568,  0.8856, -0.2710, -0.1044,  0.2155,\n",
       "         -1.9709,  0.1245],\n",
       "        [-0.5567,  0.6046, -1.2936, -0.2578,  0.8604,  1.2916, -1.6954, -1.3338,\n",
       "         -0.0316,  1.6040],\n",
       "        [-1.7729, -1.3541,  1.1196,  1.9150,  2.2460,  0.7601, -0.0431,  0.2375,\n",
       "          0.4081, -0.3950],\n",
       "        [-1.4268, -0.4750,  0.1676,  0.0420,  0.8607, -0.9546, -0.4293,  0.3111,\n",
       "          0.4685, -0.2005],\n",
       "        [ 1.1214,  1.4821,  0.5364,  0.2985,  1.0870,  1.6981,  1.2654,  0.1385,\n",
       "         -0.8367, -0.5878],\n",
       "        [ 0.7055,  0.4461, -0.1337,  1.1997, -1.0430, -0.6560, -1.8163,  2.3094,\n",
       "         -0.5188, -0.9420],\n",
       "        [ 1.1382,  1.2318, -0.0956, -1.7639,  1.2154, -1.2164, -0.2348,  0.8332,\n",
       "         -0.3344, -0.9257],\n",
       "        [-1.1144,  1.2968,  1.0332, -0.3815, -1.5334,  0.6362, -1.7950, -1.4765,\n",
       "         -1.3546,  0.6683],\n",
       "        [ 1.7561,  1.2441, -0.6092, -0.1304, -0.5759, -0.8888,  1.1832,  0.0784,\n",
       "          0.9180,  0.4417],\n",
       "        [-0.9461, -0.4870,  1.7725,  0.8172,  0.9254,  0.4334,  1.3795,  1.1192,\n",
       "          0.0951, -0.1980],\n",
       "        [ 0.8353,  0.6261, -0.8988,  1.0975, -1.4292,  0.9978,  0.3795,  0.1327,\n",
       "         -1.4074,  0.5332],\n",
       "        [ 0.4647,  1.6427, -0.6969, -0.6538,  2.3773,  0.0215, -0.7287,  0.1919,\n",
       "          0.7904, -0.0086],\n",
       "        [ 2.0235,  0.6853,  2.0067,  0.1597, -1.0015, -0.6980,  1.1804,  0.6836,\n",
       "          0.5020, -0.2206],\n",
       "        [-1.0857, -0.7097, -0.5795, -0.0032,  2.2251,  1.4337, -1.7932, -1.6827,\n",
       "          0.0250, -0.8459]], grad_fn=<ViewBackward>)"
      ]
     },
     "execution_count": 14,
     "metadata": {},
     "output_type": "execute_result"
    }
   ],
   "source": [
    "import torch.nn as nn\n",
    "embedding = nn.Embedding(vocab_size, EMBEDDING_DIM)\n",
    "embedding(torch.tensor([i for i in range(vocab_size)])).view((vocab_size, EMBEDDING_DIM))"
   ]
  },
  {
   "cell_type": "code",
   "execution_count": 15,
   "metadata": {},
   "outputs": [
    {
     "data": {
      "text/plain": [
       "(56, 8, 1)"
      ]
     },
     "execution_count": 15,
     "metadata": {},
     "output_type": "execute_result"
    }
   ],
   "source": [
    "torch.ones(5,7,8).stride()\n",
    "# To jump from the i_th dim_1 to the j_th dim_1 holding all else equal takes |j-i|*56 moves.\n",
    "# To jump from the i_th dim_2 to the j_th dim_2 holding all else equal takes |j-i|*8 moves.\n",
    "# To jump from the i_th dim_3 to the j_th dim_3 holding all else equal takes |j-i| moves."
   ]
  },
  {
   "cell_type": "code",
   "execution_count": 16,
   "metadata": {},
   "outputs": [
    {
     "data": {
      "text/plain": [
       "(torch.nn.modules.module.Module,)"
      ]
     },
     "execution_count": 16,
     "metadata": {},
     "output_type": "execute_result"
    }
   ],
   "source": [
    "# Embeddings are modified modules.\n",
    "nn.Embedding.__bases__"
   ]
  },
  {
   "cell_type": "code",
   "execution_count": 17,
   "metadata": {},
   "outputs": [
    {
     "data": {
      "text/plain": [
       "(object,)"
      ]
     },
     "execution_count": 17,
     "metadata": {},
     "output_type": "execute_result"
    }
   ],
   "source": [
    "# This is the fundamental PyTorch class on which all models are built.\n",
    "nn.Module.__bases__"
   ]
  },
  {
   "cell_type": "code",
   "execution_count": 18,
   "metadata": {},
   "outputs": [],
   "source": [
    "# Let's explore the following NGram Language Modeler...\n",
    "import torch.nn as nn\n",
    "import torch.nn.functional as F\n",
    "\n",
    "class NGramLanguageModeler(nn.Module):\n",
    "    \n",
    "    def __init__(self, vocab_size, embedding_dim, context_size):\n",
    "        # This use of super makes Python start looking for an __init__ method associated with a dummy object\n",
    "        # instantiation (self) one level above NGramLanguageModel (in this case Module).\n",
    "        super(NGramLanguageModeler, self).__init__() # Does the simple Module initialization.\n",
    "        self.embeddings = nn.Embedding(vocab_size, embedding_dim) # This module now contains a sub-module of class Embeddings.\n",
    "        self.linear1 = nn.Linear(context_size * embedding_dim, HIDDEN_DIM) # Again linear is a simple affine transformation.\n",
    "        self.linear2 = nn.Linear(HIDDEN_DIM, vocab_size)\n",
    "        \n",
    "    def forward(self, inputs): # Takes a temporary object of this class (to access data and methods) and also takes input vector\n",
    "        # The forward pass.\n",
    "        # We have a model structure, composed essentially of a collection of matrix multiplications\n",
    "        # and other similar computations which keep track of their source so that gradients can be computed.\n",
    "        # With the forward pass, we simply run our computations in order.\n",
    "        embeds = self.embeddings(inputs).view(1,-1) # We need to essentially concatenate these two vectors\n",
    "        out = F.relu(self.linear1(embeds)) \n",
    "        out = self.linear2(out)\n",
    "        log_probs = F.log_softmax(out, -1) # gives us a log probability over the vocabulary\n",
    "        return log_probs\n",
    "        "
   ]
  },
  {
   "cell_type": "markdown",
   "metadata": {},
   "source": [
    "So basically above we have our model. But it is trash. It doesn't give good results because all of the weights and biases and embeddings are totally random. We need to hone it by giving it some feedback so that it adjusts itself. We do this by running it on some data and computing the loss with respect to some target output, and then backpropagating. We do this for several epochs."
   ]
  },
  {
   "cell_type": "code",
   "execution_count": 19,
   "metadata": {},
   "outputs": [],
   "source": [
    "import torch.optim as optim\n",
    "\n",
    "learning_rate = 0.001\n",
    "losses = []\n",
    "loss_function = nn.NLLLoss() # negative log likelihood\n",
    "model = NGramLanguageModeler(len(vocab), EMBEDDING_DIM, CONTEXT_SIZE)\n",
    "optimizer = optim.SGD(model.parameters(), lr = learning_rate)"
   ]
  },
  {
   "cell_type": "code",
   "execution_count": 20,
   "metadata": {},
   "outputs": [
    {
     "data": {
      "text/plain": [
       "<bound method Module.parameters of NGramLanguageModeler(\n",
       "  (embeddings): Embedding(25, 10)\n",
       "  (linear1): Linear(in_features=20, out_features=256, bias=True)\n",
       "  (linear2): Linear(in_features=256, out_features=25, bias=True)\n",
       ")>"
      ]
     },
     "execution_count": 20,
     "metadata": {},
     "output_type": "execute_result"
    }
   ],
   "source": [
    "model.parameters"
   ]
  },
  {
   "cell_type": "code",
   "execution_count": 21,
   "metadata": {},
   "outputs": [
    {
     "name": "stdout",
     "output_type": "stream",
     "text": [
      "torch.Size([25, 10])\n",
      "torch.Size([256, 20])\n",
      "torch.Size([256])\n",
      "torch.Size([25, 256])\n",
      "torch.Size([25])\n"
     ]
    }
   ],
   "source": [
    "# Let's briefly inspect the model parameters\n",
    "# We can use the iterator model.parameters() to get the tensors which constitute our models parameters.\n",
    "# In this case, the output reveals that the first parameter is a matrix with 25 rows and ten columns.\n",
    "# That is our embedding table of 25 words each with a vector representation of length 10.\n",
    "# Our next paramater is a matrix with 256 rows and 20 columns. This represents weights of the connections between\n",
    "# our two stacked word embeddings (from the conditioned word pair) and our 256 hidden units.\n",
    "# The next is a vector of length 256. These are the biases of our 256 hidden units.\n",
    "# Then we have a matrix with 25 rows and 256 columns. These are the weights from the 256 hidden units\n",
    "# to the 25 possible output words.\n",
    "for param in model.parameters():\n",
    "    print(param.shape)"
   ]
  },
  {
   "cell_type": "code",
   "execution_count": 22,
   "metadata": {},
   "outputs": [
    {
     "name": "stderr",
     "output_type": "stream",
     "text": [
      "100%|██████████| 27/27 [00:00<00:00, 342.41it/s, loss=3.32]\n",
      "100%|██████████| 27/27 [00:00<00:00, 465.12it/s, loss=3.27]\n",
      "100%|██████████| 27/27 [00:00<00:00, 427.39it/s, loss=3.21]\n",
      "100%|██████████| 27/27 [00:00<00:00, 424.46it/s, loss=3.15]\n",
      "100%|██████████| 27/27 [00:00<00:00, 424.27it/s, loss=3.1]\n",
      "100%|██████████| 27/27 [00:00<00:00, 364.37it/s, loss=3.04]\n",
      "100%|██████████| 27/27 [00:00<00:00, 422.04it/s, loss=2.99]\n",
      "100%|██████████| 27/27 [00:00<00:00, 403.53it/s, loss=2.93]\n",
      "100%|██████████| 27/27 [00:00<00:00, 398.06it/s, loss=2.88]\n",
      "100%|██████████| 27/27 [00:00<00:00, 429.78it/s, loss=2.83]\n",
      "100%|██████████| 27/27 [00:00<00:00, 404.15it/s, loss=2.78]\n",
      "100%|██████████| 27/27 [00:00<00:00, 414.43it/s, loss=2.73]\n",
      "100%|██████████| 27/27 [00:00<00:00, 374.89it/s, loss=2.68]\n",
      "100%|██████████| 27/27 [00:00<00:00, 343.05it/s, loss=2.63]\n",
      "100%|██████████| 27/27 [00:00<00:00, 370.08it/s, loss=2.58]\n",
      "100%|██████████| 27/27 [00:00<00:00, 339.68it/s, loss=2.53]\n",
      "100%|██████████| 27/27 [00:00<00:00, 361.79it/s, loss=2.48]\n",
      "100%|██████████| 27/27 [00:00<00:00, 245.37it/s, loss=2.44]\n",
      "100%|██████████| 27/27 [00:00<00:00, 466.64it/s, loss=2.39]\n",
      "100%|██████████| 27/27 [00:00<00:00, 426.86it/s, loss=2.35]\n",
      "100%|██████████| 27/27 [00:00<00:00, 428.89it/s, loss=2.3]\n",
      "100%|██████████| 27/27 [00:00<00:00, 446.27it/s, loss=2.26]\n",
      "100%|██████████| 27/27 [00:00<00:00, 435.46it/s, loss=2.21]\n",
      "100%|██████████| 27/27 [00:00<00:00, 458.36it/s, loss=2.17]\n",
      "100%|██████████| 27/27 [00:00<00:00, 436.67it/s, loss=2.13]\n"
     ]
    }
   ],
   "source": [
    "# Now let's train our model.\n",
    "from tqdm import tqdm # A really great progress bar library\n",
    "\n",
    "for epoch in range(25):\n",
    "    total_loss = 0 # Initialize loss to 0\n",
    "    \n",
    "    iterator = tqdm(trigrams)\n",
    "    # tqdm wraps an iterable and returns progress by showing how many iterations you've gone through\n",
    "    # and how many left you have to go. tqdm(iterable) can be treated like an iterator.\n",
    "    \n",
    "    for context, target in iterator:\n",
    "        # For each context, for each of the two words in the context, replace it with its index.\n",
    "        context_ids = torch.tensor([word_to_index[w] for w in context], dtype=torch.long)\n",
    "        \n",
    "        # Zero out gradients since gradients are accumulated in PyTorch.\n",
    "        model.zero_grad()\n",
    "        \n",
    "        log_probs = model(context_ids)\n",
    "        \n",
    "        # previously defined as negative log likelihood loss\n",
    "        loss = loss_function(log_probs, torch.tensor([word_to_index[target]], dtype=torch.long))\n",
    "        \n",
    "        # This computes the gradient of the loss with respect to ALL THE PARAMETERS\n",
    "        # through the efficient dynamic programming algorithm known as backpropagation\n",
    "        loss.backward()\n",
    "        \n",
    "        # Here the optimizer takes one step (with size of learning rate) in the direction of the gradient.\n",
    "        # In other words it updates all parameters (considered as a vector) by some scaled version of the \n",
    "        # gradient vector.\n",
    "        optimizer.step()\n",
    "        \n",
    "        # loss.item() gets the loss as a float\n",
    "        total_loss += loss.item()\n",
    "        \n",
    "        # Simply adds the loss to our progress output\n",
    "        iterator.set_postfix(loss=float(loss))\n",
    "        \n",
    "    # Simply keeps track of the loss at each epoch.    \n",
    "    losses.append(total_loss)"
   ]
  },
  {
   "cell_type": "code",
   "execution_count": 27,
   "metadata": {},
   "outputs": [
    {
     "data": {
      "text/plain": [
       "NGramLanguageModeler(\n",
       "  (embeddings): Embedding(25, 10)\n",
       "  (linear1): Linear(in_features=20, out_features=256, bias=True)\n",
       "  (linear2): Linear(in_features=256, out_features=25, bias=True)\n",
       ")"
      ]
     },
     "execution_count": 27,
     "metadata": {},
     "output_type": "execute_result"
    }
   ],
   "source": [
    "# Certain types of layers or modules behave differently during training (updating weights)\n",
    "# and evaluation/testing (actually pushing values through the network).\n",
    "# It is good practice to specify when your model is in training with model.train()\n",
    "# and when it is in evaluation mode with model.eval().\n",
    "model.eval()\n",
    "\n",
    "# Note that this returns a model with the previously specified structure"
   ]
  },
  {
   "cell_type": "code",
   "execution_count": 31,
   "metadata": {},
   "outputs": [
    {
     "name": "stdout",
     "output_type": "stream",
     "text": [
      "tensor([[-3.2772, -2.7866, -3.3541, -3.2785, -3.2696, -3.4185, -3.3924, -2.9264,\n",
      "         -3.4512, -3.4004, -2.9080, -3.2412, -2.9587, -3.3246, -3.3224, -3.2233,\n",
      "         -3.1292, -3.1498, -3.3067, -3.2114, -2.9347, -3.7021, -3.4993, -3.0356,\n",
      "         -3.5812]])\n",
      "you\n"
     ]
    }
   ],
   "source": [
    "import numpy as np\n",
    "\n",
    "# This simply runs our model without its associated gradient data, since this is unnecessary outside of training.\n",
    "with torch.no_grad():\n",
    "    context = [\"monster\", \"and\"]\n",
    "    context_indices = torch.tensor([word_to_index[w] for w in context], dtype=torch.long)\n",
    "    pred = model(context_indices)\n",
    "    print(pred)\n",
    "    index_of_prediction = np.argmax(pred)\n",
    "    print(vocab[index_of_prediction])"
   ]
  },
  {
   "cell_type": "markdown",
   "metadata": {},
   "source": [
    "# Exploring RNNs in PyTorch"
   ]
  },
  {
   "cell_type": "code",
   "execution_count": null,
   "metadata": {},
   "outputs": [],
   "source": []
  }
 ],
 "metadata": {
  "kernelspec": {
   "display_name": "Python 3",
   "language": "python",
   "name": "python3"
  },
  "language_info": {
   "codemirror_mode": {
    "name": "ipython",
    "version": 3
   },
   "file_extension": ".py",
   "mimetype": "text/x-python",
   "name": "python",
   "nbconvert_exporter": "python",
   "pygments_lexer": "ipython3",
   "version": "3.7.4"
  }
 },
 "nbformat": 4,
 "nbformat_minor": 2
}
